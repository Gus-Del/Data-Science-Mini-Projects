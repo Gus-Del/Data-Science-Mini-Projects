{
 "cells": [
  {
   "cell_type": "markdown",
   "metadata": {
    "id": "zy9NuR2fuGeT"
   },
   "source": [
    "# Intermediate Python For Data Science"
   ]
  },
  {
   "cell_type": "markdown",
   "metadata": {
    "id": "uyujPC7qRJlm"
   },
   "source": [
    "# Indexing and Slicing - Dictionaries"
   ]
  },
  {
   "cell_type": "markdown",
   "metadata": {
    "id": "mmYAsIFEja8f"
   },
   "source": [
    "## Tracking Coworker's Favorite Colors\n",
    "\n",
    "\n",
    "A team of colleagues recognized that their knowledge about each other extended only to the daily tasks within their jobs.\n",
    "\n",
    "In an effort to foster stronger camaraderie, they opt to disclose their favorite colors with one another.\n",
    "\n",
    "Let's establish a dictionary named fav_colors to document this data.\n",
    "\n",
    "Considering the necessity to easily retrieve a person's favorite color, we'll employ a dictionary structure with individuals' names as keys and their corresponding favorite colors as values.\n",
    "\n",
    "Execute the cell below to generate the dictionary of favorite colors."
   ]
  },
  {
   "cell_type": "code",
   "execution_count": null,
   "metadata": {
    "id": "dtKQsi98RbQf",
    "scrolled": true
   },
   "outputs": [],
   "source": [
    "## Run this cell without making changes.\n",
    "\n",
    "# Create the dictionary\n",
    "fav_colors = {'Dave':'Red',\n",
    "              'Purvi':\"Orange\", \n",
    "              \"Gaberial\":'Purple',\n",
    "              'Kai':'Indigo'}\n",
    "print(fav_colors)\n"
   ]
  },
  {
   "cell_type": "markdown",
   "metadata": {
    "id": "iHQFHZyXuM0k"
   },
   "source": [
    "## Adding to Our Dictionary\n",
    "- A new person just the joined the team and needs to be added to our dictionary. We need to add Neerja to our dictionary and her favorite color is Green.\n"
   ]
  },
  {
   "cell_type": "code",
   "execution_count": null,
   "metadata": {
    "id": "LlQ8wB57t9n0"
   },
   "outputs": [],
   "source": [
    "# Run this cell without making changes\n",
    "\n",
    "# add a new key for \"Neerja\" with the value set to Aqua\n",
    "fav_colors['Neerja'] = 'Green'\n",
    "\n",
    "# display the full dictionary\n",
    "fav_colors\n"
   ]
  },
  {
   "cell_type": "markdown",
   "metadata": {
    "id": "h7juifK_vMXb"
   },
   "source": [
    "## Your Turn\n",
    "Add your own name and favorite color to the `fav_colors` dictionary."
   ]
  },
  {
   "cell_type": "code",
   "execution_count": null,
   "metadata": {
    "id": "dt_bJZCovkvP"
   },
   "outputs": [],
   "source": [
    "# your code here\n",
    "fav_colored={'gus':'green', 'neerja':'red', 'deb':'pink', 'keirra':'blue', 'jesse':'black'}\n",
    "## Add a new key with your name and set it to your fav color\n",
    "fav_colored['michelle']= 'purple'\n",
    "\n",
    "## print or display the updated dictionary\n",
    "print(fav_colored)\n"
   ]
  },
  {
   "cell_type": "markdown",
   "metadata": {
    "id": "KOy7i12dwjkE"
   },
   "source": [
    "## Your Turn\n",
    "\n",
    "Purvi has also realized that she no longer likes Orange and that her true favorite color is Green.\n",
    "\n",
    "Update the fav_colors dictionary to change Purvi's value to Green."
   ]
  },
  {
   "cell_type": "code",
   "execution_count": null,
   "metadata": {
    "id": "QdUNyzrAxHiD"
   },
   "outputs": [],
   "source": [
    "# Update the value for Purvi to \"Green\"\n",
    "fav_colors['Purvi']=\"Green\"\n",
    "\n",
    "# Confirm that the value has changed\n",
    "print(fav_colors)"
   ]
  },
  {
   "cell_type": "markdown",
   "metadata": {
    "id": "OFz65OX-xcHa"
   },
   "source": [
    "# For Loops\n",
    "## Task1 : Iterate through a list\n",
    "\n",
    "A company offers the following items at the specified prices:\n",
    "\n",
    "Pen: $15.00\n",
    "\n",
    "Pencil: $10.00\n",
    "\n",
    "Buttons: $2.00\n",
    "\n",
    "Stickers: $3.00\n",
    "\n",
    "TO DO:\n",
    "\n",
    "A: Execute the pre-written cell to generate a list of products.\n",
    "\n",
    "B: Compose a for-loop and utilize an f-string to print \"We sell PRODUCT here!\" for each product listed.\n",
    "\n",
    "\n",
    "\n",
    "\n",
    "\n",
    "\n"
   ]
  },
  {
   "cell_type": "code",
   "execution_count": null,
   "metadata": {
    "id": "RxodwaNpxaQm"
   },
   "outputs": [],
   "source": [
    "# your code here\n",
    "# Create a list of products\n",
    "products = ['Pen', 'Pencil', 'Buttons', 'Stickers'] "
   ]
  },
  {
   "cell_type": "code",
   "execution_count": null,
   "metadata": {
    "id": "HerTzcLcly9M"
   },
   "outputs": [],
   "source": [
    "# Write a for-loop to repeat the print statement for each product in the list.\n",
    "for product in products: \n",
    "    print(f\" We sell {product} here!\")\n",
    "    #{product} is called the dynamic value."
   ]
  },
  {
   "cell_type": "markdown",
   "metadata": {
    "id": "XHbK5vGrycvU"
   },
   "source": [
    "## Task 2: Employ a loop to add values to a new list\n",
    "\n",
    "The products are now being offered at a 20% discount!\n",
    "\n",
    "TO DO:\n",
    "\n",
    "A: Execute the pre-coded cell to generate the list of original products.\n",
    "\n",
    "B: Establish an empty list named sale_prices.\n",
    "\n",
    "C: Construct a for-loop to add values to the sale_prices list that correspond to the discounted price (original price * 0.8).\n",
    "\n",
    "D: Display the updated list of sale_prices."
   ]
  },
  {
   "cell_type": "code",
   "execution_count": null,
   "metadata": {
    "id": "NW5j7WZ_y604"
   },
   "outputs": [],
   "source": [
    "# Create a list of the prices.\n",
    "original_prices = [15, 10, 2, 3]\n"
   ]
  },
  {
   "cell_type": "code",
   "execution_count": null,
   "metadata": {
    "id": "3pAOrXEvWlDp"
   },
   "outputs": [],
   "source": [
    "# Create an empty list called sale_prices\n",
    "sale_prices =[]\n"
   ]
  },
  {
   "cell_type": "code",
   "execution_count": null,
   "metadata": {
    "id": "2pXGSpEImLbd"
   },
   "outputs": [],
   "source": [
    "# Use a loop to append the sale_prices list with the sale price (a 20% discount means the original price is multiplied by .8)\n",
    "for prices in original_prices:\n",
    "    final_price=.8 * prices\n",
    "    sale_prices.append(final_price)\n"
   ]
  },
  {
   "cell_type": "code",
   "execution_count": null,
   "metadata": {
    "id": "tyEyTbcVmN2c"
   },
   "outputs": [],
   "source": [
    "# Print the list of sale_prices\n",
    "print(sale_prices)"
   ]
  },
  {
   "cell_type": "markdown",
   "metadata": {
    "id": "rqi5fTVozocO"
   },
   "source": [
    "## Task 3: Iterate through a dictionary\n",
    "TO DO:\n",
    "\n",
    "A: Execute the pre-written cell to generate the prices_dict.\n",
    "\n",
    "B: Traverse through the prices_dict and utilize an f-string to print the statement: \"We sell PRODUCT!\"\n",
    "\n",
    "C: Iterate through the prices_dict using prices_dict.items() to print the statement \"PRODUCT costs $PRICE each.\" for each product in the dictionary."
   ]
  },
  {
   "cell_type": "code",
   "execution_count": 1,
   "metadata": {
    "id": "rDhc3ttLzjCN"
   },
   "outputs": [
    {
     "data": {
      "text/plain": [
       "{'Shirts': 10, 'Hats': 15, 'Buttons': 4, 'Stickers': 1}"
      ]
     },
     "execution_count": 1,
     "metadata": {},
     "output_type": "execute_result"
    }
   ],
   "source": [
    "# Run this cell to create a dictionary with product and price\n",
    "prices_dict = {'Shirts': 10,\n",
    "              'Hats': 15,\n",
    "              'Buttons' : 4,\n",
    "              'Stickers' : 1}\n",
    "\n",
    "prices_dict\n"
   ]
  },
  {
   "cell_type": "code",
   "execution_count": null,
   "metadata": {
    "id": "QPadxrAOmkLF"
   },
   "outputs": [],
   "source": [
    "# Loop through the dictionary to print: \"We sell __!\"\n",
    "for keys, values in prices_dict.items():\n",
    "    print(f\" We sell {keys}\")"
   ]
  },
  {
   "cell_type": "code",
   "execution_count": 7,
   "metadata": {
    "id": "dC5ntCrcmk7z"
   },
   "outputs": [
    {
     "name": "stdout",
     "output_type": "stream",
     "text": [
      "Shirts cost $10 each\n",
      "Hats cost $15 each\n",
      "Buttons cost $4 each\n",
      "Stickers cost $1 each\n"
     ]
    }
   ],
   "source": [
    "# Loop through the dictionary to print: \"__ cost $__ each\".\n",
    "for keys, values in prices_dict.items():\n",
    "    print(f\"{keys} cost ${values} each\")\n"
   ]
  },
  {
   "cell_type": "code",
   "execution_count": null,
   "metadata": {},
   "outputs": [],
   "source": []
  }
 ],
 "metadata": {
  "colab": {
   "provenance": []
  },
  "kernelspec": {
   "display_name": "Python 3 (ipykernel)",
   "language": "python",
   "name": "python3"
  },
  "language_info": {
   "codemirror_mode": {
    "name": "ipython",
    "version": 3
   },
   "file_extension": ".py",
   "mimetype": "text/x-python",
   "name": "python",
   "nbconvert_exporter": "python",
   "pygments_lexer": "ipython3",
   "version": "3.11.7"
  }
 },
 "nbformat": 4,
 "nbformat_minor": 4
}
