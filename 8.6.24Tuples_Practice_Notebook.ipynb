{
 "cells": [
  {
   "cell_type": "markdown",
   "metadata": {
    "id": "eyLJH2OFOtxy"
   },
   "source": [
    "# Tuples Core Assignment Notebook"
   ]
  },
  {
   "cell_type": "markdown",
   "metadata": {
    "id": "ltbPs3qRlLdL"
   },
   "source": [
    "## Costume Shop Re-supply\n",
    "\n",
    "A costume shop is ordering merchandise to replenish their stock.  Some items sell out very quickly and others are not as popular.  The shop keep track of how many of each item sells and makes tuple of items in order of most popular to least popular.\n",
    "\n"
   ]
  },
  {
   "cell_type": "markdown",
   "metadata": {
    "id": "OACRkwy7nqOK"
   },
   "source": [
    "## 7. Create a Tuple\n",
    "\n",
    "Remember tuples are surrounded by parenthesis. ()"
   ]
  },
  {
   "cell_type": "code",
   "execution_count": null,
   "metadata": {
    "id": "cG5zzDadbxLW"
   },
   "outputs": [],
   "source": [
    "# Create a tuple of costume merchandise\n",
    "# Run this code cell without making any changes\n",
    "merchandise = ('Fangs', 'Tutus', 'Clown Noses', 'Scrubs', 'Cowboy Hats', 'Face Paint', 'Plastic Swords')"
   ]
  },
  {
   "cell_type": "markdown",
   "metadata": {
    "id": "pxIvijkBCjtE"
   },
   "source": [
    "| Index          |   0   |    1  |     2       |   3    |         4   |    5       | 6              |\n",
    "|----------------|-------|-------|-------------|--------|-------------|------------|----------------|\n",
    "| merchandise =  | Fangs | Tutus | Clown Noses | Scrubs | Cowboy Hats | Face Paint | Plastic Swords |\n",
    "| Negative Index | -7    |   -6  |    -5       | -4     | -3          | -2         | -1             |"
   ]
  },
  {
   "cell_type": "markdown",
   "metadata": {
    "id": "ewWVDhvAnjKs"
   },
   "source": [
    "##8. Slicing from the start of a tuple\n",
    "\n",
    "The shop wants to order plenty of their top 3 best sellers to make sure they keep them in stock.\n",
    "\n",
    "Slice into the `merchandise` tuple to return the first 3 elements of the tuple.  Remember:\n",
    "1. If there is no value before the colon the slice will begin at the beginning of the tuple (or list).  For example [0:3] can also be written as [:3]\n",
    "2. A slice **excludes** the index position after the colon."
   ]
  },
  {
   "cell_type": "code",
   "execution_count": null,
   "metadata": {
    "id": "yiod1kLwnhzc"
   },
   "outputs": [],
   "source": [
    "# define a variable called top_3 that includes only the first 3 objects in the merchandise tuple\n",
    "\n",
    "\n",
    "# print top_3\n"
   ]
  },
  {
   "cell_type": "markdown",
   "metadata": {
    "id": "hEE2tRbho7lW"
   },
   "source": [
    "## 8. Slicing from the end of a tuple\n",
    "\n",
    "The shop wants to discontinue the two least popular items in the list.  \n",
    "\n",
    "* Slice into the `merchandise` tuple and return the last two elements.  Remember:\n",
    "  1. You can use negative indexing to count backward from the end of a collection\n",
    "  2. When you want to slice everything after a certain point in a collection, put the starting point before the colon and don't put anything after the colon."
   ]
  },
  {
   "cell_type": "code",
   "execution_count": null,
   "metadata": {
    "id": "Eu76Efzgos60"
   },
   "outputs": [],
   "source": [
    "# Define a variable called last_2 that inclues only the last two elements of the tuple.\n",
    "\n",
    "\n",
    "# Print last_2\n"
   ]
  },
  {
   "cell_type": "markdown",
   "metadata": {
    "id": "YdG4i71fqkdL"
   },
   "source": [
    "##9. Slicing items from the middle of a tuple\n",
    "\n",
    ". Reminders:\n",
    "\n",
    "1. A slice **includes** the index before the colon.\n",
    "2. A slice **excludes** the index after the colon.\n",
    "3. Python indexing starts at 0, so the second item is at index 1."
   ]
  },
  {
   "cell_type": "code",
   "execution_count": null,
   "metadata": {
    "id": "AVJUOWndqHJT"
   },
   "outputs": [],
   "source": [
    "# Slice out the 2nd and 3rd items from the tuple\n",
    "\n",
    "\n",
    "# Print the result\n"
   ]
  },
  {
   "cell_type": "markdown",
   "metadata": {
    "id": "NRs5Kl0JreEz"
   },
   "source": [
    "## Reminder: Tuples are immutable\n",
    "\n",
    "Our supplier has changed 'Cowboy Hats' to 'Cowpoke Hats'.  Can we change this in our tuple?\n",
    "\n",
    "NO! Tuples are immutable meaning they cannot be changed or updated.\n"
   ]
  }
 ],
 "metadata": {
  "colab": {
   "provenance": []
  },
  "kernelspec": {
   "display_name": "Python 3 (ipykernel)",
   "language": "python",
   "name": "python3"
  },
  "language_info": {
   "codemirror_mode": {
    "name": "ipython",
    "version": 3
   },
   "file_extension": ".py",
   "mimetype": "text/x-python",
   "name": "python",
   "nbconvert_exporter": "python",
   "pygments_lexer": "ipython3",
   "version": "3.11.7"
  }
 },
 "nbformat": 4,
 "nbformat_minor": 4
}
