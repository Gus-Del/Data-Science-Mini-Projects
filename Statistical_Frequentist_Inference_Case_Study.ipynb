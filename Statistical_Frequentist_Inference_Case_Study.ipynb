{
 "cells": [
  {
   "cell_type": "markdown",
   "metadata": {
    "id": "S29oNc-G4U6L"
   },
   "source": [
    "# Frequentist Inference Case Study"
   ]
  },
  {
   "cell_type": "markdown",
   "metadata": {
    "id": "FrNO1G2N4U6L"
   },
   "source": [
    "## Learning objectives"
   ]
  },
  {
   "cell_type": "markdown",
   "metadata": {
    "id": "0fGcHF_J4U6M"
   },
   "source": [
    "\n",
    "Welcome to the Statistical Frequentist Inference Case Study! This case study is designed to help you apply the concepts of Frequentist inference using Python. Specifically, you will practice writing Python code to implement the following statistical concepts:\n",
    "\n",
    "The z-statistic\n",
    "\n",
    "The t-statistic\n",
    "\n",
    "Understanding the difference and relationship between the two\n",
    "\n",
    "Exploring the Central Limit Theorem, including its assumptions and consequences\n",
    "\n",
    "Estimating the population mean and standard deviation from a sample\n",
    "\n",
    "Understanding the concept of a sampling distribution of a test statistic, particularly for the mean\n",
    "\n",
    "Combining these concepts to calculate a confidence interval"
   ]
  },
  {
   "cell_type": "markdown",
   "metadata": {
    "id": "sgiwC89k4U6M"
   },
   "source": [
    "## Medical Charges of Hospital"
   ]
  },
  {
   "cell_type": "markdown",
   "metadata": {
    "id": "_l4qO-px4U6M"
   },
   "source": [
    "Picture yourself as a data scientist hired by a hospital. The hospital administrator, tasked with developing the hospital's business operations plan, seeks your assistance in addressing some key business inquiries.\n",
    "\n",
    "Within this assignment notebook, you'll employ frequentist statistical inference techniques on a dataset to provide insights into the following questions:\n",
    "\n",
    "Has the hospital's revenue fallen below a critical threshold?\n",
    "Are patients with insurance indeed billed differently compared to those without insurance?\n",
    "Addressing the latter question using a frequentist approach necessitates certain assumptions and an understanding of the characteristics of the two patient groups."
   ]
  },
  {
   "cell_type": "markdown",
   "metadata": {
    "id": "jUwYLwEm4U6M"
   },
   "source": [
    "We are using some data from [Kaggle](https://www.kaggle.com/easonlai/sample-insurance-claim-prediction-dataset).\n",
    "\n",
    "Download Dataset : [Medical DataSet](https://drive.google.com/file/d/1ZlgW4op1tR5f2I1a_Be754yuJiOWn9X_/view?usp=sharing)\n",
    "\n",
    "For the purpose of this case study, let's assume that the observations are obtained through random sampling from our single hospital. As discussed in a previous assignment, we introduced the Central Limit Theorem (CLT), which states that as the sample size ($n$) increases, the distributions of sample statistics tend to approach a normal distribution. What's remarkable about this theorem is its applicability to the sampling distributions of statistics, even when the original data distributions are highly non-normal. Additionally, hypothesis testing heavily relies on making inferences about such sample statistics. In this notebook, you will heavily lean on the CLT to apply frequentist (parametric) tests to address the questions at hand."
   ]
  },
  {
   "cell_type": "code",
   "execution_count": 37,
   "metadata": {
    "id": "68_JViPK4U6M"
   },
   "outputs": [],
   "source": [
    "#import the libraries\n",
    "import pandas as pd\n",
    "import seaborn as sns\n",
    "import numpy as np\n",
    "import matplotlib.pyplot as plt\n",
    "import scipy.stats as st \n",
    "from scipy import stats\n",
    "from numpy.random import seed\n",
    "import os \n",
    "#file_path = os.path.abspath('C:\\Users\\USER\\Downloads\\ins_data.csv')\n",
    "#file_path = 'C:\\Users\\USER\\Downloads\\ins_data.csv'\n",
    "\n",
    "medical_data = pd.read_csv(r'C:\\Users\\USER\\Downloads\\ins_data.csv')\n",
    "#not the r in front of file path 'C:\\Users...csv'. This is so it ignores the \\ back slashes. \n",
    "#If the file were in the following format, C:/Users/USER....csv', of forward slashes / we would not need the r. "
   ]
  },
  {
   "cell_type": "code",
   "execution_count": 33,
   "metadata": {
    "colab": {
     "base_uri": "https://localhost:8080/"
    },
    "id": "sd6cX9b54U6N",
    "outputId": "490bd215-e247-4453-a5f1-f92db904e3bb"
   },
   "outputs": [
    {
     "data": {
      "text/plain": [
       "(1338, 8)"
      ]
     },
     "execution_count": 33,
     "metadata": {},
     "output_type": "execute_result"
    }
   ],
   "source": [
    "#check the shape of the data\n",
    "medical_data.shape"
   ]
  },
  {
   "cell_type": "code",
   "execution_count": 36,
   "metadata": {
    "colab": {
     "base_uri": "https://localhost:8080/",
     "height": 206
    },
    "id": "6rM88zhE4U6N",
    "outputId": "e7a5cfcf-2b21-4bc0-de69-34377ffde677"
   },
   "outputs": [
    {
     "data": {
      "text/html": [
       "<div>\n",
       "<style scoped>\n",
       "    .dataframe tbody tr th:only-of-type {\n",
       "        vertical-align: middle;\n",
       "    }\n",
       "\n",
       "    .dataframe tbody tr th {\n",
       "        vertical-align: top;\n",
       "    }\n",
       "\n",
       "    .dataframe thead th {\n",
       "        text-align: right;\n",
       "    }\n",
       "</style>\n",
       "<table border=\"1\" class=\"dataframe\">\n",
       "  <thead>\n",
       "    <tr style=\"text-align: right;\">\n",
       "      <th></th>\n",
       "      <th>age</th>\n",
       "      <th>sex</th>\n",
       "      <th>bmi</th>\n",
       "      <th>children</th>\n",
       "      <th>smoker</th>\n",
       "      <th>region</th>\n",
       "      <th>charges</th>\n",
       "      <th>insuranceclaim</th>\n",
       "    </tr>\n",
       "  </thead>\n",
       "  <tbody>\n",
       "    <tr>\n",
       "      <th>0</th>\n",
       "      <td>19</td>\n",
       "      <td>0</td>\n",
       "      <td>27.900</td>\n",
       "      <td>0</td>\n",
       "      <td>1</td>\n",
       "      <td>3</td>\n",
       "      <td>16884.92400</td>\n",
       "      <td>1</td>\n",
       "    </tr>\n",
       "    <tr>\n",
       "      <th>1</th>\n",
       "      <td>18</td>\n",
       "      <td>1</td>\n",
       "      <td>33.770</td>\n",
       "      <td>1</td>\n",
       "      <td>0</td>\n",
       "      <td>2</td>\n",
       "      <td>1725.55230</td>\n",
       "      <td>1</td>\n",
       "    </tr>\n",
       "    <tr>\n",
       "      <th>2</th>\n",
       "      <td>28</td>\n",
       "      <td>1</td>\n",
       "      <td>33.000</td>\n",
       "      <td>3</td>\n",
       "      <td>0</td>\n",
       "      <td>2</td>\n",
       "      <td>4449.46200</td>\n",
       "      <td>0</td>\n",
       "    </tr>\n",
       "    <tr>\n",
       "      <th>3</th>\n",
       "      <td>33</td>\n",
       "      <td>1</td>\n",
       "      <td>22.705</td>\n",
       "      <td>0</td>\n",
       "      <td>0</td>\n",
       "      <td>1</td>\n",
       "      <td>21984.47061</td>\n",
       "      <td>0</td>\n",
       "    </tr>\n",
       "    <tr>\n",
       "      <th>4</th>\n",
       "      <td>32</td>\n",
       "      <td>1</td>\n",
       "      <td>28.880</td>\n",
       "      <td>0</td>\n",
       "      <td>0</td>\n",
       "      <td>1</td>\n",
       "      <td>3866.85520</td>\n",
       "      <td>1</td>\n",
       "    </tr>\n",
       "  </tbody>\n",
       "</table>\n",
       "</div>"
      ],
      "text/plain": [
       "   age  sex     bmi  children  smoker  region      charges  insuranceclaim\n",
       "0   19    0  27.900         0       1       3  16884.92400               1\n",
       "1   18    1  33.770         1       0       2   1725.55230               1\n",
       "2   28    1  33.000         3       0       2   4449.46200               0\n",
       "3   33    1  22.705         0       0       1  21984.47061               0\n",
       "4   32    1  28.880         0       0       1   3866.85520               1"
      ]
     },
     "execution_count": 36,
     "metadata": {},
     "output_type": "execute_result"
    }
   ],
   "source": [
    "#check the info of the data\n",
    "medical_data.head()"
   ]
  },
  {
   "cell_type": "markdown",
   "metadata": {
    "id": "2-BU-nPv4U6N"
   },
   "source": [
    "__Q1:__ Create a histogram representing the distribution of charges and compute both the mean and standard deviation. Provide insights regarding the suitability of these statistics for the dataset."
   ]
  },
  {
   "cell_type": "markdown",
   "metadata": {
    "id": "1mhrXgbo4U6N"
   },
   "source": [
    "A:"
   ]
  },
  {
   "cell_type": "code",
   "execution_count": 61,
   "metadata": {},
   "outputs": [
    {
     "name": "stderr",
     "output_type": "stream",
     "text": [
      "C:\\Users\\USER\\anaconda3\\Lib\\site-packages\\seaborn\\_oldcore.py:1119: FutureWarning: use_inf_as_na option is deprecated and will be removed in a future version. Convert inf values to NaN before operating instead.\n",
      "  with pd.option_context('mode.use_inf_as_na', True):\n"
     ]
    },
    {
     "data": {
      "text/plain": [
       "Text(0.5, 1.0, 'Insurance Charges')"
      ]
     },
     "execution_count": 61,
     "metadata": {},
     "output_type": "execute_result"
    },
    {
     "data": {
      "image/png": "[encoded data removed]",
      "text/plain": [
       "<Figure size 640x480 with 1 Axes>"
      ]
     },
     "metadata": {},
     "output_type": "display_data"
    }
   ],
   "source": [
    "#This dataset is concerned with charges for claims that are being produced by individuals in said dataset. \n",
    "sns.histplot(data = medical_data, x = 'charges')\n",
    "medical_data['charges'].mean()\n",
    "plt.xlabel('Amount in charges')\n",
    "plt.ylabel('Number of people')\n",
    "plt.title('Insurance Charges')"
   ]
  },
  {
   "cell_type": "code",
   "execution_count": 77,
   "metadata": {},
   "outputs": [],
   "source": [
    "x=round(medical_data['charges'])"
   ]
  },
  {
   "cell_type": "code",
   "execution_count": 75,
   "metadata": {},
   "outputs": [
    {
     "data": {
      "text/plain": [
       "12110.012882303801"
      ]
     },
     "execution_count": 75,
     "metadata": {},
     "output_type": "execute_result"
    }
   ],
   "source": [
    "x.std()"
   ]
  },
  {
   "cell_type": "code",
   "execution_count": 81,
   "metadata": {},
   "outputs": [
    {
     "data": {
      "text/plain": [
       "12110.01"
      ]
     },
     "execution_count": 81,
     "metadata": {},
     "output_type": "execute_result"
    }
   ],
   "source": [
    "round(x.std(), 2)"
   ]
  },
  {
   "cell_type": "code",
   "execution_count": 83,
   "metadata": {
    "id": "AOCIgOll4U6N"
   },
   "outputs": [
    {
     "data": {
      "text/plain": [
       "(1338, 8)"
      ]
     },
     "execution_count": 83,
     "metadata": {},
     "output_type": "execute_result"
    }
   ],
   "source": [
    "medical_data.shape"
   ]
  },
  {
   "cell_type": "code",
   "execution_count": null,
   "metadata": {
    "id": "r6nAF6z74U6N"
   },
   "outputs": [],
   "source": []
  },
  {
   "cell_type": "markdown",
   "metadata": {
    "id": "kxGRyRlR4U6O"
   },
   "source": [
    "__Q2:__ The administrator is worried that the true average charge has dropped below $12,000, which could jeopardize the hospital's operational model. Given the assumption that these data constitute a random sample of charges, how would you substantiate that these data enable you to address this concern? Additionally, which of the discussed frequentist tests would be the most suitable to apply in this scenario?"
   ]
  },
  {
   "cell_type": "markdown",
   "metadata": {
    "id": "SrDZaWtu4U6O"
   },
   "source": [
    "__A:"
   ]
  },
  {
   "cell_type": "code",
   "execution_count": 85,
   "metadata": {},
   "outputs": [
    {
     "data": {
      "text/plain": [
       "age                  39.207025\n",
       "sex                   0.505232\n",
       "bmi                  30.663397\n",
       "children              1.094918\n",
       "smoker                0.204783\n",
       "region                1.515695\n",
       "charges           13270.422265\n",
       "insuranceclaim        0.585202\n",
       "dtype: float64"
      ]
     },
     "execution_count": 85,
     "metadata": {},
     "output_type": "execute_result"
    }
   ],
   "source": [
    "medical_data.mean()"
   ]
  },
  {
   "cell_type": "code",
   "execution_count": null,
   "metadata": {},
   "outputs": [],
   "source": [
    "Due to the calcuations of the mean and spread of the mean, hence the standard deviation, I would say that our data is fairly accurate.\n",
    "The data was specifically focused on the charges column, and from there said calculations were completed on this particular data set. \n"
   ]
  },
  {
   "cell_type": "markdown",
   "metadata": {
    "id": "zjwaxYil4U6O"
   },
   "source": [
    "__Q3:__ Considering the nature of the administrator's concern, which confidence interval is appropriate in this situation: a one-sided or two-sided interval? Proceed to compute the critical value and the corresponding 95% confidence interval for the mean, and provide feedback on whether the administrator's concern is warranted."
   ]
  },
  {
   "cell_type": "markdown",
   "metadata": {
    "id": "jTpSDH8_4U6O"
   },
   "source": [
    "__A:__"
   ]
  },
  {
   "cell_type": "code",
   "execution_count": 105,
   "metadata": {
    "id": "MbhOGvtk4U6O"
   },
   "outputs": [
    {
     "data": {
      "text/plain": [
       "(12620.954034192644, 13919.890496089869)"
      ]
     },
     "execution_count": 105,
     "metadata": {},
     "output_type": "execute_result"
    }
   ],
   "source": [
    "# create 95% confidence interval \n",
    "st.t.interval(confidence=0.95,\n",
    "              df=len(medical_data['charges'])-1, \n",
    "              loc=np.mean(medical_data['charges']), \n",
    "              scale=st.sem(medical_data['charges']))\n",
    "\n",
    "#This confidence interval displays the probability that our mean falls within a 95% confidence interval. \n",
    "#Confidence intervals measure the degree of uncertainty or certainty in a sampling method. The mean, after several random samples, \n",
    "# should fall between these two intervals. \n"
   ]
  },
  {
   "cell_type": "code",
   "execution_count": null,
   "metadata": {
    "id": "vUpqPfw24U6O"
   },
   "outputs": [],
   "source": []
  },
  {
   "cell_type": "code",
   "execution_count": 9,
   "metadata": {
    "id": "vHpAU_044U6O"
   },
   "outputs": [
    {
     "name": "stdout",
     "output_type": "stream",
     "text": [
      "<class 'pandas.core.frame.DataFrame'>\n",
      "RangeIndex: 1338 entries, 0 to 1337\n",
      "Data columns (total 8 columns):\n",
      " #   Column          Non-Null Count  Dtype  \n",
      "---  ------          --------------  -----  \n",
      " 0   age             1338 non-null   int64  \n",
      " 1   sex             1338 non-null   int64  \n",
      " 2   bmi             1338 non-null   float64\n",
      " 3   children        1338 non-null   int64  \n",
      " 4   smoker          1338 non-null   int64  \n",
      " 5   region          1338 non-null   int64  \n",
      " 6   charges         1338 non-null   float64\n",
      " 7   insuranceclaim  1338 non-null   int64  \n",
      "dtypes: float64(2), int64(6)\n",
      "memory usage: 83.8 KB\n"
     ]
    }
   ],
   "source": [
    "medical_data.info()"
   ]
  },
  {
   "cell_type": "markdown",
   "metadata": {
    "id": "GAX11BOv4U6O"
   },
   "source": [
    "The administrator then wants to know whether people with insurance really are charged a different amount to those without.\n",
    "\n",
    "__Q4:__ State the null and alternative hypothesis here. Use the _t_-test for the difference between means, where the pooled standard deviation of the two groups is given by:\n",
    "\\begin{equation}\n",
    "s_p = \\sqrt{\\frac{(n_0 - 1)s^2_0 + (n_1 - 1)s^2_1}{n_0 + n_1 - 2}}\n",
    "\\end{equation}\n",
    "\n",
    "and the *t*-test statistic is then given by:\n",
    "\n",
    "\\begin{equation}\n",
    "t = \\frac{\\bar{x}_0 - \\bar{x}_1}{s_p \\sqrt{1/n_0 + 1/n_1}}.\n",
    "\\end{equation}\n",
    "\n",
    "(If you need some reminding of the general definition of ***t-statistic***, check out the definition on p. 404 of *AoS*).\n",
    "\n",
    "What assumption about the variances of the two groups are we making here?"
   ]
  },
  {
   "cell_type": "markdown",
   "metadata": {
    "id": "X-kkxote4U6O"
   },
   "source": [
    "__A:__"
   ]
  },
  {
   "cell_type": "code",
   "execution_count": 59,
   "metadata": {},
   "outputs": [
    {
     "data": {
      "text/plain": [
       "array([  -93.18601699, -5448.102229  ,  -265.94372142, -2242.52742019,\n",
       "       -6777.18821066, -2432.79548862,    39.85720159, -5522.72925345])"
      ]
     },
     "execution_count": 59,
     "metadata": {},
     "output_type": "execute_result"
    }
   ],
   "source": [
    "#Null Hypothesis - This hypothesis states that there is no difference between groups or no relationship between variables. \n",
    "#The null hypothesis is a presumption of status quo or no change.\n",
    "#Any changes witnessed in an experiment are because of random chance and not because of changes made to variables in the experiment. Similar to \n",
    "#removing rooms in a house, yet the house is the same size/square footage. \n",
    "\n",
    "\n"
   ]
  },
  {
   "cell_type": "markdown",
   "metadata": {
    "id": "Q8YtT33C4U6O"
   },
   "source": [
    "__Q5:__ Perform this hypothesis test both manually, using the above formulae, and then using the appropriate function from [scipy.stats](https://docs.scipy.org/doc/scipy-1.12.0/reference/stats.html) (hint, you're looking for a function to perform a _t_-test on two independent samples). For the manual approach, calculate the value of the test statistic and then its probability (the p-value). Verify you get the same results from both."
   ]
  },
  {
   "cell_type": "markdown",
   "metadata": {
    "id": "rQsdo32c4U6O"
   },
   "source": [
    "__A:__"
   ]
  },
  {
   "cell_type": "code",
   "execution_count": 63,
   "metadata": {
    "id": "fXU00d3o4U6O"
   },
   "outputs": [
    {
     "data": {
      "text/plain": [
       "array([  -93.18601699, -5448.102229  ,  -265.94372142, -2242.52742019,\n",
       "       -6777.18821066, -2432.79548862,    39.85720159, -5522.72925345])"
      ]
     },
     "execution_count": 63,
     "metadata": {},
     "output_type": "execute_result"
    }
   ],
   "source": [
    "t_stat, p_value = stats.ttest_1samp(medical_data, 75)\n",
    "t_stat"
   ]
  },
  {
   "cell_type": "code",
   "execution_count": 61,
   "metadata": {
    "id": "DI7BsLyO4U6O"
   },
   "outputs": [
    {
     "data": {
      "text/plain": [
       "array([0.00000000e+000, 0.00000000e+000, 0.00000000e+000, 0.00000000e+000,\n",
       "       0.00000000e+000, 0.00000000e+000, 1.33542652e-229, 0.00000000e+000])"
      ]
     },
     "execution_count": 61,
     "metadata": {},
     "output_type": "execute_result"
    }
   ],
   "source": [
    "p_value"
   ]
  },
  {
   "cell_type": "code",
   "execution_count": 67,
   "metadata": {
    "id": "dKPaSSiB4U6O"
   },
   "outputs": [
    {
     "data": {
      "text/plain": [
       "39.993125547508896"
      ]
     },
     "execution_count": 67,
     "metadata": {},
     "output_type": "execute_result"
    }
   ],
   "source": [
    "t_stat, p_value = stats.ttest_1samp(medical_data['charges'], 30)\n",
    "t_stat"
   ]
  },
  {
   "cell_type": "code",
   "execution_count": 69,
   "metadata": {
    "id": "WNa58RnH4U6P"
   },
   "outputs": [
    {
     "data": {
      "text/plain": [
       "1.1216830234785879e-230"
      ]
     },
     "execution_count": 69,
     "metadata": {},
     "output_type": "execute_result"
    }
   ],
   "source": [
    "p_value"
   ]
  },
  {
   "cell_type": "markdown",
   "metadata": {
    "id": "rllRr4ba4U6P"
   },
   "source": [
    "Congratulations! Hopefully, you obtained identical numerical results, indicating accurate manual calculations. Secondly, by employing the correct function, you realized how much simpler it is to use. All that's required is passing your data to it."
   ]
  },
  {
   "cell_type": "markdown",
   "metadata": {
    "id": "wiPwlRES4U6P"
   },
   "source": [
    "__Q6:__ Conceptual question: look through the documentation for statistical test functions in scipy.stats. You'll see the above _t_-test for a sample, but can you see an equivalent one for performing a *z*-test from a sample? Comment on your answer."
   ]
  },
  {
   "cell_type": "markdown",
   "metadata": {
    "id": "zWpvmDi_4U6P"
   },
   "source": [
    "__A:__"
   ]
  },
  {
   "cell_type": "code",
   "execution_count": null,
   "metadata": {},
   "outputs": [],
   "source": [
    "The scipy.stats library in Python provides many statistical test functions, but it doesn't have a dedicated function for performing a z-test directly, like it does for t-tests (scipy.stats.ttest_* functions)."
   ]
  },
  {
   "cell_type": "markdown",
   "metadata": {
    "id": "QIseJsLe4U6P"
   },
   "source": [
    "## Learning outcomes"
   ]
  },
  {
   "cell_type": "markdown",
   "metadata": {
    "id": "p7JXNYGA4U6P"
   },
   "source": [
    "Having completed this project notebook, you now have good hands-on experience:\n",
    "* using the central limit theorem to help you apply frequentist techniques to answer questions that pertain to very non-normally distributed data from the real world\n",
    "* performing inference using such data to answer business questions\n",
    "* forming a hypothesis and framing the null and alternative hypotheses\n",
    "* testing this using a _t_-test"
   ]
  }
 ],
 "metadata": {
  "colab": {
   "provenance": []
  },
  "kernelspec": {
   "display_name": "Python 3 (ipykernel)",
   "language": "python",
   "name": "python3"
  },
  "language_info": {
   "codemirror_mode": {
    "name": "ipython",
    "version": 3
   },
   "file_extension": ".py",
   "mimetype": "text/x-python",
   "name": "python",
   "nbconvert_exporter": "python",
   "pygments_lexer": "ipython3",
   "version": "3.11.7"
  }
 },
 "nbformat": 4,
 "nbformat_minor": 4
}
