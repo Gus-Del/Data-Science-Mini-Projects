{
 "cells": [
  {
   "cell_type": "markdown",
   "metadata": {
    "id": "pAaYArvjyWu8"
   },
   "source": [
    "## String Practice Notebook\n"
   ]
  },
  {
   "cell_type": "markdown",
   "metadata": {
    "id": "-Tk2tA0nzAMK"
   },
   "source": [
    "### Task 1: print \"Hello World\""
   ]
  },
  {
   "cell_type": "code",
   "execution_count": 7,
   "metadata": {
    "id": "99y9XKNIyMJH"
   },
   "outputs": [
    {
     "name": "stdout",
     "output_type": "stream",
     "text": [
      "Hello World\n"
     ]
    }
   ],
   "source": [
    "print('Hello World')"
   ]
  },
  {
   "cell_type": "markdown",
   "metadata": {
    "id": "3i20s6-pzOnD"
   },
   "source": [
    "### Task 2 : print \"Hello David!\" with the name in a variable\n",
    "print( your code here )\t# with a comma\n",
    "\n",
    "print( your code here )\t# with a +"
   ]
  },
  {
   "cell_type": "code",
   "execution_count": 19,
   "metadata": {
    "id": "YkI5NyT9zLPP"
   },
   "outputs": [
    {
     "name": "stdout",
     "output_type": "stream",
     "text": [
      "Hello David !\n",
      "Hello David!\n",
      "Hello David!\n"
     ]
    }
   ],
   "source": [
    "name= 'David'\n",
    "print('Hello', name, '!')\n",
    "print('Hello ' +name +'!')\n",
    "print(f\"Hello {name}!\")"
   ]
  },
  {
   "cell_type": "markdown",
   "metadata": {
    "id": "siQpnhNYzZuq"
   },
   "source": [
    "### Task 3 : print \"Hello 45!\" with the number in a variable\n",
    "\n",
    "print( your code here )\t# with a comma\n",
    "\n",
    "print( your code here )\t# with a +\t-- this one should give us an error!"
   ]
  },
  {
   "cell_type": "code",
   "execution_count": 25,
   "metadata": {
    "id": "DaVbifgGzYvV"
   },
   "outputs": [
    {
     "name": "stdout",
     "output_type": "stream",
     "text": [
      "Hello 45!\n",
      "Hello 45 !\n",
      "Hello 45!\n"
     ]
    }
   ],
   "source": [
    "number=45\n",
    "print('Hello '+str(number)+'!')\n",
    "print('Hello', number,'!')\n",
    "print(f\"Hello {number}!\")\n",
    "# use f string as most simple and effective way to not get confused. "
   ]
  },
  {
   "cell_type": "markdown",
   "metadata": {
    "id": "dnFes74E03nT"
   },
   "source": [
    "### Task 4: print \"I love to eat idli and dosa.\" with the foods in variables\n",
    "print( your code here ) # with .format()\n",
    "\n",
    "print( your code here ) # with an f string"
   ]
  },
  {
   "cell_type": "code",
   "execution_count": 30,
   "metadata": {
    "id": "XZOyquGu02y8"
   },
   "outputs": [
    {
     "name": "stdout",
     "output_type": "stream",
     "text": [
      "I love to eat idli and dosa!\n"
     ]
    }
   ],
   "source": [
    "food_1='idli'\n",
    "food_2='dosa'\n",
    "\n",
    "print(f\"I love to eat {food_1} and {food_2}!\")"
   ]
  },
  {
   "cell_type": "code",
   "execution_count": 32,
   "metadata": {
    "id": "XZOyquGu02y8"
   },
   "outputs": [
    {
     "name": "stdout",
     "output_type": "stream",
     "text": [
      "I love to eat 23 and 19!\n"
     ]
    }
   ],
   "source": [
    "food_1= 23\n",
    "food_2= 19\n",
    "\n",
    "print(f\"I love to eat {food_1} and {food_2}!\")"
   ]
  },
  {
   "cell_type": "code",
   "execution_count": 74,
   "metadata": {},
   "outputs": [
    {
     "name": "stdin",
     "output_type": "stream",
     "text": [
      "put number here 4\n"
     ]
    },
    {
     "name": "stdout",
     "output_type": "stream",
     "text": [
      "No food\n"
     ]
    }
   ],
   "source": [
    "food_1=int(input('put number here'))\n",
    "if food_1== 1:\n",
    "    print(food_1)\n",
    "else:\n",
    "    print(\"No food\")"
   ]
  },
  {
   "cell_type": "markdown",
   "metadata": {
    "id": "F7Vl9JRf1uST"
   },
   "source": [
    "### Task 5 : Define a sample string\n",
    "string_var = \"Hello, World! How are you?\""
   ]
  },
  {
   "cell_type": "code",
   "execution_count": 89,
   "metadata": {
    "id": "IbaAloJM2Ddv"
   },
   "outputs": [],
   "source": [
    "#define a sample string means to declare a string\n",
    "string_var=\"Hello,World! How are you?\""
   ]
  },
  {
   "cell_type": "markdown",
   "metadata": {
    "id": "VK8hoyQ22JJQ"
   },
   "source": [
    "### Task 6 : Convert the string to uppercase and print it"
   ]
  },
  {
   "cell_type": "code",
   "execution_count": 92,
   "metadata": {
    "id": "1IfYnD-x2IX5"
   },
   "outputs": [
    {
     "name": "stdout",
     "output_type": "stream",
     "text": [
      "Hello,World! How are you?\n",
      "HELLO,WORLD! HOW ARE YOU?\n"
     ]
    }
   ],
   "source": [
    "upper_string_var=string_var.upper()\n",
    "print(string_var)\n",
    "print(upper_string_var)\n",
    "#on the fly is the first print since we didn't reassign to a variable."
   ]
  },
  {
   "cell_type": "markdown",
   "metadata": {
    "id": "OPp-V3jh2Q0g"
   },
   "source": [
    "### Task 7 : Convert the string to lowercase and print it"
   ]
  },
  {
   "cell_type": "code",
   "execution_count": 95,
   "metadata": {
    "id": "MphM-KW-2WEB"
   },
   "outputs": [
    {
     "name": "stdout",
     "output_type": "stream",
     "text": [
      "hello,world! how are you?\n"
     ]
    }
   ],
   "source": [
    "lower_string_var=string_var.lower()\n",
    "print(lower_string_var)"
   ]
  },
  {
   "cell_type": "markdown",
   "metadata": {
    "id": "jk46JuR32YMX"
   },
   "source": [
    "### Task 8 : Count the occurrences of a substring and print it"
   ]
  },
  {
   "cell_type": "code",
   "execution_count": 106,
   "metadata": {
    "id": "ng_PUcrh2XgL"
   },
   "outputs": [
    {
     "data": {
      "text/plain": [
       "1"
      ]
     },
     "execution_count": 106,
     "metadata": {},
     "output_type": "execute_result"
    }
   ],
   "source": [
    "string_var.count('Hello')\n",
    "#substring is a word in a string. "
   ]
  },
  {
   "cell_type": "code",
   "execution_count": 126,
   "metadata": {
    "id": "EgyOFMSR2gH6"
   },
   "outputs": [
    {
     "data": {
      "text/plain": [
       "2"
      ]
     },
     "execution_count": 126,
     "metadata": {},
     "output_type": "execute_result"
    }
   ],
   "source": [
    "string_1=\"hello hello hello world!\"\n",
    "string_1.count('hello',5)\n",
    "#note that index number starts with 0 from the left. 5 is the first space. "
   ]
  },
  {
   "cell_type": "markdown",
   "metadata": {
    "id": "uNb_dShs2iSI"
   },
   "source": [
    "Spend a few minutes playing around with other string methods to see what’s out there!"
   ]
  },
  {
   "cell_type": "code",
   "execution_count": null,
   "metadata": {
    "id": "muVKKoPK2k1L"
   },
   "outputs": [],
   "source": []
  }
 ],
 "metadata": {
  "colab": {
   "provenance": []
  },
  "kernelspec": {
   "display_name": "Python 3 (ipykernel)",
   "language": "python",
   "name": "python3"
  },
  "language_info": {
   "codemirror_mode": {
    "name": "ipython",
    "version": 3
   },
   "file_extension": ".py",
   "mimetype": "text/x-python",
   "name": "python",
   "nbconvert_exporter": "python",
   "pygments_lexer": "ipython3",
   "version": "3.11.7"
  }
 },
 "nbformat": 4,
 "nbformat_minor": 4
}
