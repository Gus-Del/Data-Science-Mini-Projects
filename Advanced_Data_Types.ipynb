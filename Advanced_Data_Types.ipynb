{
  "nbformat": 4,
  "nbformat_minor": 0,
  "metadata": {
    "colab": {
      "provenance": []
    },
    "kernelspec": {
      "name": "python3",
      "display_name": "Python 3"
    },
    "language_info": {
      "name": "python"
    }
  },
  "cells": [
    {
      "cell_type": "code",
      "execution_count": null,
      "metadata": {
        "id": "R6OOXkTrnmxL"
      },
      "outputs": [],
      "source": [
        "# Import the Counter object\n",
        "from collections import Counter\n",
        "\n",
        "# Create a Counter of the penguins sex using a list comp\n",
        "penguins_sex_counts = Counter([penguins['Sex'] for penguins in penguins])\n",
        "\n",
        "# Print the penguins_sex_counts\n",
        "print(penguins_sex_counts)\n",
        "Counter({'MALE': 15, 'FEMALE': 5})\n",
        "\n",
        "\n",
        "# Import the Counter object\n",
        "from collections import Counter\n",
        "\n",
        "# Create a Counter of the penguins list: penguins_species_counts\n",
        "penguins_species_counts = Counter([penguins['Species'] for penguins in penguins])\n",
        "\n",
        "# Find the 3 most common species counts\n",
        "print(penguins_species_counts.most_common(3))\n",
        "[('Chinstrap', 7), ('Adlie', 7), ('Gentoo', 6)]\n"
      ]
    },
    {
      "cell_type": "markdown",
      "source": [
        "#Dictionaries of unknown structure - *Defaultdict*"
      ],
      "metadata": {
        "id": "TaTwzqgEriCU"
      }
    },
    {
      "cell_type": "code",
      "source": [
        "# Iterate over the weight_log entries\n",
        "for species, sex, body_mass in weight_log:\n",
        "    # Check to see if species is already in the dictionary\n",
        "    if species not in female_penguin_weights:\n",
        "        # Create an empty list for any missing species\n",
        "        female_penguin_weights[species] = []\n",
        "    # Append the sex and body_mass as a tuple to the species keys list\n",
        "    female_penguin_weights[species].append((sex,body_mass))\n",
        "\n",
        "# Print the weights for 'Adlie'\n",
        "print(female_penguin_weights['Adlie'])\n",
        "[('FEMALE', 3450.0), ('FEMALE', 3550.0), ('FEMALE', 3175.0)\n",
        "------------------------------------------------------------------\n",
        "# Import defaultdict\n",
        "from collections import defaultdict\n",
        "\n",
        "# Create a defaultdict with a default type of list: male_penguin_weights\n",
        "male_penguin_weights = defaultdict(list)\n",
        "\n",
        "# Iterate over the weight_log entries\n",
        "for species, sex, body_mass in weight_log:\n",
        "    # Use the species as the key, and append the body_mass to it\n",
        "    male_penguin_weights[species].append(body_mass)\n",
        "\n",
        "# Print the first 2 items of the male_penguin_weights dictionary\n",
        "print(list(male_penguin_weights.items())[:2])\n",
        "[('Gentoo', [5500.0, 5800.0, 5400.0, 5250.0, 4925.0]), ('Chinstrap', [4300.0, 4100.0, 4800.0, 3950.0, 3800.0, 4050.0])]\n",
        "\n",
        " ------------------------------------------------\n",
        "\n",
        " # Import namedtuple from collections\n",
        "from collections import namedtuple\n",
        "\n",
        "# Create the namedtuple: SpeciesDetails\n",
        "SpeciesDetails = namedtuple('SpeciesDetails', ['species', 'sex', 'body_mass'])\n",
        "\n",
        "# Create the empty list: labeled_entries\n",
        "labeled_entries = []\n",
        "\n",
        "# Iterate over the weight_log entries\n",
        "for species,sex, body_mass in weight_log:\n",
        "    # Append a new SpeciesDetails namedtuple instance for each entry to labeled_entries\n",
        "    entry=SpeciesDetails(species,sex,body_mass)\n",
        "    labeled_entries.append(entry)\n",
        "\n",
        "print(labeled_entries[:5])\n",
        "[SpeciesDetails(species='Gentoo', sex='MALE', body_mass=5500.0), SpeciesDetails(species='Chinstrap', sex='MALE', body_mass=4300.0), SpeciesDetails(species='Adlie', sex='MALE', body_mass=3800.0), SpeciesDetails(species='Gentoo', sex='MALE', body_mass=5800.0), SpeciesDetails(species='Chinstrap', sex='MALE', body_mass=4100.0)]\n",
        "\n",
        "<script.py> output:\n",
        "    [SpeciesDetails(species='Gentoo', sex='MALE', body_mass=5500.0), SpeciesDetails(species='Chinstrap', sex='MALE', body_mass=4300.0), SpeciesDetails(species='Adlie', sex='MALE', body_mass=3800.0), SpeciesDetails(species='Gentoo', sex='MALE', body_mass=5800.0), SpeciesDetails(species='Chinstrap', sex='MALE', body_mass=4100.0)]"
      ],
      "metadata": {
        "id": "ZJJqY1uvru1Z"
      },
      "execution_count": null,
      "outputs": []
    },
    {
      "cell_type": "code",
      "source": [
        "# Iterate over the first twenty entries in labeled_entries\n",
        "for entry in labeled_entries[:20]:\n",
        "    # if the entry's species equals Chinstrap\n",
        "    if entry.species== 'Chinstrap':\n",
        "      # Print each entry's sex and body_mass seperated by a colon\n",
        "      print(f'{entry.sex}:{entry.body_mass}')\n",
        "MALE:4300.0\n",
        "MALE:4100.0\n",
        "MALE:4800.0\n",
        "FEMALE:3800.0\n",
        "MALE:3950.0\n",
        "MALE:3800.0\n",
        "MALE:4050.0\n",
        "In [1]:\n",
        "\n"
      ],
      "metadata": {
        "id": "kiaMbnpwQDtR"
      },
      "execution_count": null,
      "outputs": []
    },
    {
      "cell_type": "markdown",
      "source": [
        "# **Dataclasses**"
      ],
      "metadata": {
        "id": "_cAbXYYAauEd"
      }
    },
    {
      "cell_type": "code",
      "source": [
        "# Import dataclass\n",
        "from dataclasses import dataclass\n",
        "\n",
        "@dataclass\n",
        "class WeightEntry:\n",
        "    # Define the fields on the class\n",
        "    species: str\n",
        "    body_mass: int\n",
        "    flipper_length: int\n",
        "    sex: str\n",
        "\n",
        "    # Define a property that returns the body_mass / flipper_length\n",
        "    @property\n",
        "    def mass_to_flipper_length_ratio(____):\n",
        "        return int.body_mass / int.flipper_length"
      ],
      "metadata": {
        "id": "NfCrUrdOZsqo"
      },
      "execution_count": null,
      "outputs": []
    },
    {
      "cell_type": "code",
      "source": [
        "# Create the empty list: labeled_entries\n",
        "labeled_entries = []\n",
        "\n",
        "# Iterate over the weight_log entries\n",
        "for species, flipper_length, body_mass, sex in weight_log:\n",
        "    # Append a new WeightEntry instance to labeled_entries\n",
        "    labeled_entries.append(WeightEntry(species, flipper_length, body_mass, sex))\n",
        "\n",
        "# Print a list of the first 5 mass_to_flipper_length_ratio values\n",
        "print([entry.mass_to_flipper_length_ratio for entry in labeled_entries[:5]])\n",
        "[23.91304347826087, 25.32751091703057, 24.0, 23.972602739726028, 20.476190476190474]\n",
        "\n",
        "<script.py> output:\n",
        "    [23.91304347826087, 25.32751091703057, 24.0, 23.972602739726028, 20.476190476190474]"
      ],
      "metadata": {
        "id": "JvD8zwwOZYKD"
      },
      "execution_count": null,
      "outputs": []
    }
  ]
}